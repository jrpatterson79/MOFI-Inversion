{
 "metadata": {
  "language_info": {
   "codemirror_mode": {
    "name": "ipython",
    "version": 3
   },
   "file_extension": ".py",
   "mimetype": "text/x-python",
   "name": "python",
   "nbconvert_exporter": "python",
   "pygments_lexer": "ipython3",
   "version": "3.9.1"
  },
  "orig_nbformat": 2,
  "kernelspec": {
   "name": "python391jvsc74a57bd061b0703f001ec473a1fa234808b7aa76ca35be9117fd3aceef04ebdb06edf9f6",
   "display_name": "Python 3.9.1 64-bit ('oht-env': conda)"
  },
  "metadata": {
   "interpreter": {
    "hash": "61b0703f001ec473a1fa234808b7aa76ca35be9117fd3aceef04ebdb06edf9f6"
   }
  }
 },
 "nbformat": 4,
 "nbformat_minor": 2,
 "cells": [
  {
   "cell_type": "code",
   "execution_count": 12,
   "metadata": {},
   "outputs": [],
   "source": [
    "import numpy as np\n",
    "from scipy.special import kv\n",
    "\n",
    "def RasSoln(P, Q_max, r, s_ln, soln):\n",
    "    s = np.exp(s_ln)\n",
    "    omega = np.reshape(((2 * np.pi) / P), (r.size,1))\n",
    "    \n",
    "    # Fully confined analytical model from Rasmussen et al., (2003)\n",
    "    if soln == 'confined':\n",
    "        arg = np.sqrt((1j * r**2 * omega) / s[0])\n",
    "    \n",
    "    # Leaky analytical model from Rasmussen et al., (2003)\n",
    "    elif soln == 'leaky':\n",
    "        B_sq = s[1] / s[2]\n",
    "        arg = np.sqrt(((1j * r**2 * omega) / s[0]) + (r**2 / B_sq))        \n",
    "\n",
    "    else:\n",
    "        print('Error: Pick a valid analytical model')\n",
    "\n",
    "    # Complex valued phasor \n",
    "    phasor_mod = (Q_max / (2 * np.pi * s[1])) * kv(0, arg)\n",
    "\n",
    "    # Fourier coefficient array used for inversion. Order is [real, imag] for each \n",
    "    y_mod = np.zeros([r.size*2,1])\n",
    "    y_mod[0:-1:2] = phasor_mod.real\n",
    "    y_mod[1::2] = phasor_mod.imag\n",
    "    return y_mod\n",
    "    \n",
    "def jacobian(P, Q_max, r, s_ln, delta, soln):\n",
    "    num_param = s_ln.size\n",
    "    num_data = r.size*2\n",
    "     \n",
    "    J = np.zeros((num_data, num_param))\n",
    "    coeffs_base = RasSoln(P, Q_max, r, s_ln, soln)\n",
    "    \n",
    "    for i in range(0, num_param):\n",
    "        sj = s_ln\n",
    "        sj[i] = s_ln[i] + delta[i]\n",
    "        coeffs_mod = RasSoln(P, Q_max, r, sj, soln)\n",
    "        J[:,i] = (coeffs_mod - coeffs_base) / delta[i]\n",
    "\n",
    "    return(J)\n"
   ]
  },
  {
   "cell_type": "code",
   "execution_count": 13,
   "metadata": {},
   "outputs": [
    {
     "output_type": "error",
     "ename": "ValueError",
     "evalue": "operands could not be broadcast together with shapes (4,1) (2,1) ",
     "traceback": [
      "\u001b[0;31m---------------------------------------------------------------------------\u001b[0m",
      "\u001b[0;31mValueError\u001b[0m                                Traceback (most recent call last)",
      "\u001b[0;32m<ipython-input-13-d7fbdf38a31a>\u001b[0m in \u001b[0;36m<module>\u001b[0;34m\u001b[0m\n\u001b[1;32m      7\u001b[0m \u001b[0;34m\u001b[0m\u001b[0m\n\u001b[1;32m      8\u001b[0m \u001b[0my_mod\u001b[0m \u001b[0;34m=\u001b[0m \u001b[0mRasSoln\u001b[0m\u001b[0;34m(\u001b[0m\u001b[0mP\u001b[0m\u001b[0;34m,\u001b[0m \u001b[0mQ_0\u001b[0m\u001b[0;34m,\u001b[0m \u001b[0mr\u001b[0m\u001b[0;34m,\u001b[0m \u001b[0ms_true\u001b[0m\u001b[0;34m,\u001b[0m \u001b[0msoln\u001b[0m\u001b[0;34m)\u001b[0m\u001b[0;34m\u001b[0m\u001b[0;34m\u001b[0m\u001b[0m\n\u001b[0;32m----> 9\u001b[0;31m \u001b[0mJ\u001b[0m \u001b[0;34m=\u001b[0m \u001b[0mjacobian\u001b[0m\u001b[0;34m(\u001b[0m\u001b[0mP\u001b[0m\u001b[0;34m,\u001b[0m \u001b[0mQ_0\u001b[0m\u001b[0;34m,\u001b[0m \u001b[0mr\u001b[0m\u001b[0;34m,\u001b[0m \u001b[0ms_true\u001b[0m\u001b[0;34m,\u001b[0m \u001b[0mdelta\u001b[0m\u001b[0;34m,\u001b[0m \u001b[0msoln\u001b[0m\u001b[0;34m)\u001b[0m\u001b[0;34m\u001b[0m\u001b[0;34m\u001b[0m\u001b[0m\n\u001b[0m",
      "\u001b[0;32m<ipython-input-12-27a602aa3047>\u001b[0m in \u001b[0;36mjacobian\u001b[0;34m(P, Q_max, r, s_ln, delta, soln)\u001b[0m\n\u001b[1;32m     38\u001b[0m         \u001b[0msj\u001b[0m\u001b[0;34m[\u001b[0m\u001b[0mi\u001b[0m\u001b[0;34m]\u001b[0m \u001b[0;34m=\u001b[0m \u001b[0ms_ln\u001b[0m\u001b[0;34m[\u001b[0m\u001b[0mi\u001b[0m\u001b[0;34m]\u001b[0m \u001b[0;34m+\u001b[0m \u001b[0mdelta\u001b[0m\u001b[0;34m[\u001b[0m\u001b[0mi\u001b[0m\u001b[0;34m]\u001b[0m\u001b[0;34m\u001b[0m\u001b[0;34m\u001b[0m\u001b[0m\n\u001b[1;32m     39\u001b[0m         \u001b[0mcoeffs_mod\u001b[0m \u001b[0;34m=\u001b[0m \u001b[0mRasSoln\u001b[0m\u001b[0;34m(\u001b[0m\u001b[0mP\u001b[0m\u001b[0;34m,\u001b[0m \u001b[0mQ_max\u001b[0m\u001b[0;34m,\u001b[0m \u001b[0mr\u001b[0m\u001b[0;34m,\u001b[0m \u001b[0msj\u001b[0m\u001b[0;34m,\u001b[0m \u001b[0msoln\u001b[0m\u001b[0;34m)\u001b[0m\u001b[0;34m\u001b[0m\u001b[0;34m\u001b[0m\u001b[0m\n\u001b[0;32m---> 40\u001b[0;31m         \u001b[0mJ\u001b[0m\u001b[0;34m[\u001b[0m\u001b[0;34m:\u001b[0m\u001b[0;34m,\u001b[0m\u001b[0mi\u001b[0m\u001b[0;34m]\u001b[0m \u001b[0;34m=\u001b[0m \u001b[0;34m(\u001b[0m\u001b[0mcoeffs_mod\u001b[0m \u001b[0;34m-\u001b[0m \u001b[0mcoeffs_base\u001b[0m\u001b[0;34m)\u001b[0m \u001b[0;34m/\u001b[0m \u001b[0mdelta\u001b[0m\u001b[0;34m\u001b[0m\u001b[0;34m\u001b[0m\u001b[0m\n\u001b[0m\u001b[1;32m     41\u001b[0m \u001b[0;34m\u001b[0m\u001b[0m\n\u001b[1;32m     42\u001b[0m     \u001b[0;32mreturn\u001b[0m\u001b[0;34m(\u001b[0m\u001b[0mJ\u001b[0m\u001b[0;34m)\u001b[0m\u001b[0;34m\u001b[0m\u001b[0;34m\u001b[0m\u001b[0m\n",
      "\u001b[0;31mValueError\u001b[0m: operands could not be broadcast together with shapes (4,1) (2,1) "
     ]
    }
   ],
   "source": [
    "P = np.array([[30], [90]])\n",
    "Q_0 = np.array([[7e-5], [7e-5]])\n",
    "r = np.array([[10], [10]])\n",
    "s_true = np.array([[2], [-8]])\n",
    "delta = np.array([[0.1], [0.1]])\n",
    "soln = 'confined'\n",
    "\n",
    "y_mod = RasSoln(P, Q_0, r, s_true, soln)\n",
    "J = jacobian(P, Q_0, r, s_true, delta, soln)"
   ]
  },
  {
   "cell_type": "code",
   "execution_count": null,
   "metadata": {},
   "outputs": [],
   "source": [
    "print('y_mod = ', y_mod)"
   ]
  },
  {
   "cell_type": "code",
   "execution_count": null,
   "metadata": {},
   "outputs": [],
   "source": [
    "print ('J = ', J)"
   ]
  }
 ]
}